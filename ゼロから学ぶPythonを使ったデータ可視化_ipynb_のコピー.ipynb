{
  "nbformat": 4,
  "nbformat_minor": 0,
  "metadata": {
    "colab": {
      "provenance": [],
      "collapsed_sections": [
        "4PyjMeEOtycm",
        "3N-Xz_bdAWeN"
      ],
      "include_colab_link": true
    },
    "kernelspec": {
      "name": "python3",
      "display_name": "Python 3"
    },
    "language_info": {
      "name": "python"
    }
  },
  "cells": [
    {
      "cell_type": "markdown",
      "metadata": {
        "id": "view-in-github",
        "colab_type": "text"
      },
      "source": [
        "<a href=\"https://colab.research.google.com/github/fuk32/next-tutorial/blob/main/%E3%82%BC%E3%83%AD%E3%81%8B%E3%82%89%E5%AD%A6%E3%81%B6Python%E3%82%92%E4%BD%BF%E3%81%A3%E3%81%9F%E3%83%87%E3%83%BC%E3%82%BF%E5%8F%AF%E8%A6%96%E5%8C%96_ipynb_%E3%81%AE%E3%82%B3%E3%83%94%E3%83%BC.ipynb\" target=\"_parent\"><img src=\"https://colab.research.google.com/assets/colab-badge.svg\" alt=\"Open In Colab\"/></a>"
      ]
    },
    {
      "cell_type": "markdown",
      "source": [
        "# Pythonの基礎\n",
        "\n",
        "Pythonはシンプルで英語に近く、理解しやすいプログラミング言語です。\n",
        "Pythonを使うとWebアプリケーション開発や機械学習、統計処理などといった様々なことが可能になります。\n"
      ],
      "metadata": {
        "id": "sRYp_E0mFRJS"
      }
    },
    {
      "cell_type": "markdown",
      "source": [
        "**【文字列の出力】**\n",
        "\n",
        "それではPythonのプログラムを動かしてみましょう。\n",
        "\n",
        "「`print`」を用いると文字を出力（表示）することができます。\n",
        "\n",
        "`print`の後ろの()の中に書いた文字が画面に出力されます。\n",
        "\n",
        "```python\n",
        "print('Hello Python')\n",
        "```"
      ],
      "metadata": {
        "id": "vJ0f0liLFue-"
      }
    },
    {
      "cell_type": "markdown",
      "source": [
        "**【文字列について】**\n",
        "\n",
        "先ほどの例で用いた「`Hello Python`」という文字は、プログラミングの世界では「`文字列`」と呼ばれます。\n",
        "\n",
        "文字列はシングルクォーテーション「`'`」またはダブルクォーテーション「`\"`」で囲む必要があります。\n",
        "\n",
        "どちらで囲んでも出力結果は同じとなります。\n",
        "どちらかで囲んでいない場合、コードは動かなくなります。\n",
        "\n",
        "```python\n",
        "print('Hello Python')\n",
        "print(\"Hello Python\")\n",
        "print(Hello Python) → これはエラーになります\n",
        "```"
      ],
      "metadata": {
        "id": "64tNvj8TGKBJ"
      }
    },
    {
      "cell_type": "markdown",
      "source": [
        "**【やってみよう！】**\n",
        "\n",
        "`print` を使って `Hello World` という文字列を出力してください。\n",
        "\n",
        "`Hello World` と表示されたら正解です！"
      ],
      "metadata": {
        "id": "-Ikpoyw5GqAg"
      }
    },
    {
      "cell_type": "code",
      "source": [
        "print(\"Hello World\")"
      ],
      "metadata": {
        "id": "zAA7gOv7HFwU",
        "colab": {
          "base_uri": "https://localhost:8080/"
        },
        "outputId": "7fd9f1c1-e3d2-42d2-d400-9f0ee058a5a6"
      },
      "execution_count": null,
      "outputs": [
        {
          "output_type": "stream",
          "name": "stdout",
          "text": [
            "Hello World\n"
          ]
        }
      ]
    },
    {
      "cell_type": "markdown",
      "source": [
        "**【数値について】**\n",
        "\n",
        "プログラミングでは、「数値」も扱うことができます。数値は文字列と違って、クォーテーションで囲む必要がありません。\n",
        "\n",
        "数学と同じ記号「+」「-」を用いて、足し算と引き算が可能です。数値や記号はすべて半角で記述します。また記号の前後の半角スペースはなくても構いませんが、入れた方がコードが見やすくなります。\n",
        "\n",
        "```python\n",
        "print(3)\n",
        "print(3 + 7)\n",
        "```"
      ],
      "metadata": {
        "id": "TpCE0cPmGncS"
      }
    },
    {
      "cell_type": "markdown",
      "source": [
        "**【やってみよう！】**\n",
        "\n",
        "数値の `7` を出力してください。\n",
        "\n",
        "`7` と表示されたら正解です！"
      ],
      "metadata": {
        "id": "ikyWj_tKHrgA"
      }
    },
    {
      "cell_type": "code",
      "source": [
        "print(7)"
      ],
      "metadata": {
        "id": "flxKb_OJHzff",
        "colab": {
          "base_uri": "https://localhost:8080/"
        },
        "outputId": "1f4d6340-42ff-45d5-ed63-60362000a72b"
      },
      "execution_count": null,
      "outputs": [
        {
          "output_type": "stream",
          "name": "stdout",
          "text": [
            "7\n"
          ]
        }
      ]
    },
    {
      "cell_type": "markdown",
      "source": [
        "**【変数】**\n",
        "\n",
        "変数とは、データ（値）を入れておく箱のようなものです。\n",
        "\n",
        "この箱（変数）に名前（変数名）をつけることで、その名前を用いて変数に値を入れることや、変数から値を取り出すことができます。\n",
        "\n",
        "変数は下のコードのように「変数名 = 値」で定義します。変数名はクォーテーションで囲む必要はありません。\n",
        "\n",
        "また、プログラミングの「=」は「等しい」という意味ではなく、「右辺を左辺に代入する」という意味になるので覚えておきましょう。\n",
        "\n",
        "```python\n",
        "name = 'John'\n",
        "number = 5\n",
        "```\n",
        "\n",
        "次は変数の値の取り出し方について学習しましょう。\n",
        "\n",
        "下のコードのように `print(name)` とすると、変数`name`の値を出力することができます。\n",
        "\n",
        "しかし、`print('name')`のようにクォーテーションで囲ってしまうと、`name`が変数ではなく文字列として認識され、「`name`」とそのまま出力されてしまうので注意しましょう。\n",
        "\n",
        "```python\n",
        "name = 'John'\n",
        "print(name) → Johnと出力される\n",
        "print('name') → nameという文字列が出力される\n",
        "```"
      ],
      "metadata": {
        "id": "ITEAS6WCH24t"
      }
    },
    {
      "cell_type": "markdown",
      "source": [
        "**【やってみよう！】**\n",
        "\n",
        "変数 `name` にご自身のお名前を代入してください。\n",
        "\n",
        "変数 `name` の値を出力してください。\n",
        "\n",
        "ご自身のお名前が表示されたら正解です！"
      ],
      "metadata": {
        "id": "whMQg72pIgJs"
      }
    },
    {
      "cell_type": "code",
      "source": [
        "name = \"木村\"\n",
        "print(name)"
      ],
      "metadata": {
        "id": "Rx8ZpTc1I2GO",
        "colab": {
          "base_uri": "https://localhost:8080/"
        },
        "outputId": "a5e312de-831c-456f-e73c-5d4a887d39dc"
      },
      "execution_count": null,
      "outputs": [
        {
          "output_type": "stream",
          "name": "stdout",
          "text": [
            "木村\n"
          ]
        }
      ]
    },
    {
      "cell_type": "markdown",
      "source": [
        "**【変数の更新】**\n",
        "\n",
        "一度定義した変数の値を更新してみましょう。\n",
        "「変数名 = 新しい値」とすることで変数の値を上書きすることができます。\n",
        "下のコードでは、変数を途中で上書きしたことによって、出力結果が変わっています。\n",
        "\n",
        "```python\n",
        "x = 5\n",
        "print(x)\n",
        "\n",
        "x = 11\n",
        "print(x) → 11という数値が出力される\n",
        "```"
      ],
      "metadata": {
        "id": "oo5Tej-1JFMU"
      }
    },
    {
      "cell_type": "markdown",
      "source": [
        "**【やってみよう！】**\n",
        "\n",
        "変数 `number` の値を数値の `100` に上書きしてください。number = 5 は消さないでください。\n",
        "\n",
        "変数 `number` の値を出力して、`100` に上書きされていることを確認してください。\n",
        "\n",
        "`100` と表示されたら正解です！"
      ],
      "metadata": {
        "id": "aDKShphkJdbb"
      }
    },
    {
      "cell_type": "code",
      "source": [
        "number = 5\n",
        "number = 100\n",
        "print(number)"
      ],
      "metadata": {
        "id": "nGrvSrUNJx6f",
        "colab": {
          "base_uri": "https://localhost:8080/"
        },
        "outputId": "420a8344-63ef-4338-a04f-5e3d68e2f609"
      },
      "execution_count": null,
      "outputs": [
        {
          "output_type": "stream",
          "name": "stdout",
          "text": [
            "100\n"
          ]
        }
      ]
    },
    {
      "cell_type": "markdown",
      "source": [
        "**【関数と引数】**\n",
        "\n",
        "`print`の他にもPythonにはいくつかの便利な関数が用意されており、それらを使うと様々な処理を簡単に行うことができます。\n",
        "\n",
        "関数を呼び出す際に、関数に値を渡すことができます。\n",
        "この値のことを`引数`といい、引数を渡すと関数の中でその値を利用することができるようになります。\n",
        "\n",
        "```python\n",
        "print('Hello World')\n",
        "```\n",
        "\n",
        "引数は複数渡すこともできます。関数が複数の引数を受け取るためには、仮引数をコンマ（`,`）で区切って定義します。\n",
        "引数を受け取る順番は自由に決めることができます。また、引数は左から順番に「第1引数、第2引数・・・」というように呼びます。\n",
        "\n",
        "```python\n",
        "hello('太郎さん', 'こんにちは')\n",
        "```"
      ],
      "metadata": {
        "id": "90hH2U2gKc4h"
      }
    },
    {
      "cell_type": "markdown",
      "source": [
        "# pandasについて\n",
        "\n",
        "`pandas`は、Pythonでデータ解析やデータ操作、型変換などを行うためのライブラリです。様々な形式のデータを操作するための機能が提供されており、データの読み込みや異なるデータ形式への変換などができます。\n",
        "\n",
        "※ ライブラリとはプログラムをまとめたもの。自分たちで作る必要なく、便利な機能を利用できる。"
      ],
      "metadata": {
        "id": "t4HtsoMyLKVX"
      }
    },
    {
      "cell_type": "markdown",
      "source": [
        "**【pandasのインポート】**\n",
        "\n",
        "pandasを使うには、pandasをインポートします。このときに別名をつけておくとpandasの関数を簡潔に呼び出せます。下のコードでは `pd` という別名をつけています。\n",
        "\n",
        "```python\n",
        "import pandas as pd\n",
        "```"
      ],
      "metadata": {
        "id": "nlm27UhmLzLL"
      }
    },
    {
      "cell_type": "markdown",
      "source": [
        "**【CSVファイルの読み込み】**\n",
        "\n",
        "pandasでCSVファイルからデータを読み込むには `read_csv`関数を使います。引数にCSVファイルのパスを指定します。\n",
        "\n",
        "下のコードでは、`read_csv`関数でCSVファイルを読み込み、変数 `sales` に代入しています。このとき読み込んだデータはデータフレームという型に変換されます。\n",
        "\n",
        "```python\n",
        "import pandas as pd\n",
        "\n",
        "sales = pd.read_csv('/content/sales.csv')\n",
        "```"
      ],
      "metadata": {
        "id": "GOBLidqQL9Qt"
      }
    },
    {
      "cell_type": "markdown",
      "source": [
        "**【データの確認】**\n",
        "\n",
        "pandasでデータを確認するには、`head`関数を使います。`head`関数はデータの先頭数行を取得する関数です。取得する行数は引数で指定できます。引数がない場合は先頭5行を取得します。\n",
        "\n",
        "```python\n",
        "import pandas as pd\n",
        "\n",
        "sales = pd.read_csv('/content/sales.csv')\n",
        "\n",
        "result = sales.head()\n",
        "\n",
        "print(result)\n",
        "```"
      ],
      "metadata": {
        "id": "VFUDuyrmMRpW"
      }
    },
    {
      "cell_type": "markdown",
      "source": [
        "**【やってみよう！】**\n",
        "\n",
        "1.   お渡ししている`stocks.csv` というCSVファイルをGoogle Colabにアップロードしてください。\n",
        "2.   `pandas` をインポートし、別名を `pd` としてください。\n",
        "3.   `read_csv` 関数を使って、`stocks.csv` のデータを読み込み、変数 `stocks` に代入してください。\n",
        "4.   変数 `stocks` に代入したデータの先頭5行を取得し、変数 `result` に代入してください\n",
        "5.   変数 `result` を出力してください\n",
        "\n",
        "次のように表示されたら正解です！\n",
        "\n",
        "<img src=\"https://drive.google.com/uc?id=1etFZTqtI9buUyHPosPxoy3O2X17XhC6A\" width=\"400\">\n",
        "\n",
        "\n"
      ],
      "metadata": {
        "id": "UUox1YsTMq4F"
      }
    },
    {
      "cell_type": "code",
      "source": [],
      "metadata": {
        "id": "FGCFHgBpN3aT"
      },
      "execution_count": null,
      "outputs": []
    },
    {
      "cell_type": "markdown",
      "source": [
        "**【カラム名を指定してデータを抽出する】**\n",
        "\n",
        "pandasでは、データフレームのカラム名を指定し、特定の列を抽出できます。下コードのように `変数名['カラム名']` と記述します。\n",
        "\n",
        "```python\n",
        "import pandas as pd\n",
        "\n",
        "stocks = pd.read_csv('/content/stocks.csv')\n",
        "\n",
        "products = stocks['product']\n",
        "\n",
        "print(products)\n",
        "```"
      ],
      "metadata": {
        "id": "AjPkeo6CEONA"
      }
    },
    {
      "cell_type": "markdown",
      "source": [
        "**【やってみよう！】**\n",
        "\n",
        "1.   `pandas` をインポートし、別名を `pd` としてください。\n",
        "2.   `read_csv` 関数を使って、`stocks.csv` のデータを読み込み、変数 `stocks` に代入してください。\n",
        "3.   変数 `stocks` に代入されているデータの `product`カラムのデータだけを抽出し、変数 `products` に代入してください\n",
        "4.   変数 `products` を出力してください\n",
        "\n",
        "次のように表示されたら正解です！\n",
        "\n",
        "<img src=\"https://drive.google.com/uc?id=1-xIgep3mfx6APbCJZT-IHx9yVNCfa8at\" width=\"400\">"
      ],
      "metadata": {
        "id": "HDqlI-L55E5e"
      }
    },
    {
      "cell_type": "code",
      "source": [],
      "metadata": {
        "id": "ibi8igYL5IKQ"
      },
      "execution_count": null,
      "outputs": []
    },
    {
      "cell_type": "markdown",
      "source": [
        "# matplotlib\n",
        "\n",
        "matplotlibは、Pythonのグラフ描画ライブラリです。棒グラフや折れ線グラフ、散布図など様々な種類のグラフを描画する機能が提供されています。"
      ],
      "metadata": {
        "id": "xQT1wYINL7RA"
      }
    },
    {
      "cell_type": "markdown",
      "source": [
        "**【matplotlibのインポート】**\n",
        "\n",
        "matplotlibを使うには、`matplotlib.pyplot` をインポートします。このときに別名をつけておくと`matplotlib.pyplot`の関数を簡潔に呼び出せます。下のコードでは`plt`という別名をつけています。\n",
        "\n",
        "```python\n",
        "import matplotlib.pyplot as plt\n",
        "```"
      ],
      "metadata": {
        "id": "uKij5Dp_PEaD"
      }
    },
    {
      "cell_type": "markdown",
      "source": [
        "**【折れ線グラフ】**\n",
        "\n",
        "折れ線グラフは、データの時間的な変化を見るのに適したグラフです。\n",
        "\n",
        "折れ線グラフを描くには `matplotlib.pyplot` の`plot`関数を使います。`plot`関数の第1引数に横軸となるデータを、第2引数に縦軸となるデータを指定します。\n",
        "\n",
        "matplotlibでグラフを画面に表示するには、グラフを描く関数を呼び出したあとに、`show`関数を実行します。\n",
        "\n",
        "```python\n",
        "import pandas as pd\n",
        "import matplotlib.pyplot as plt\n",
        "\n",
        "sales = pd.read_csv('/content/sales.csv')\n",
        "\n",
        "plt.plot(sales['month'], sales['total_sales'])\n",
        "\n",
        "plt.show()\n",
        "```"
      ],
      "metadata": {
        "id": "7hjdPsYmPdoE"
      }
    },
    {
      "cell_type": "markdown",
      "source": [
        "**【やってみよう！】**\n",
        "\n",
        "1.   お渡ししている`contacts.csv` というCSVファイルをGoogle Colabにアップロードしてください。\n",
        "2.   `pandas` をインポートし、別名を `pd` としてください。\n",
        "3.   `matplotlib` をインポートし、別名を `plt` としてください。\n",
        "4.   `contacts.csv` というCSVファイルを `read_csv` 関数を使って変数 `contacts` に代入してください。\n",
        "5.   横軸に変数 `contacts` の `month` カラムのデータ、縦軸に変数 `contacts` の `contact_count` カラムのデータを使って、折れ線グラフを表示してください\n",
        "\n",
        "次のように表示されたら正解です！\n",
        "\n",
        "<img src=\"https://drive.google.com/uc?id=1sXyXd5Xe60V4J4MoFIAHyVd0zGKDP2EH\" width=\"400\">"
      ],
      "metadata": {
        "id": "XAuYzp7NTSne"
      }
    },
    {
      "cell_type": "code",
      "source": [],
      "metadata": {
        "id": "0yqUcu7IgHUG"
      },
      "execution_count": null,
      "outputs": []
    },
    {
      "cell_type": "markdown",
      "source": [
        "# 演習問題1"
      ],
      "metadata": {
        "id": "b8tjBcx27zuV"
      }
    },
    {
      "cell_type": "markdown",
      "source": [
        "\n",
        "お渡ししている `website_visitors_april.csv`は4月のWebサイト訪問者数のデータが入っています。\n",
        "\n",
        "*   pandasを使って、`website_visitors_april.csv` を読み込んでください。\n",
        "*   読み込んだCSVファイルのデータのの先頭5行を確認して、カラム名を確認してください。\n",
        "*   matplotlibを使って、横軸が日付、縦軸が訪問者数の折れ線グラフにしてください。\n",
        "\n",
        "\n",
        "注意）必要な変数名はご自身でつけてください。\n",
        "\n",
        "次のようなグラフが表示されたら正解です！\n",
        "\n",
        "<img src=\"https://drive.google.com/uc?id=1rnsyaCQ3WZYBXUN3wKfJ84dCo8myzRXb\" width=\"400\">"
      ],
      "metadata": {
        "id": "ubdSCeyW8ClN"
      }
    },
    {
      "cell_type": "code",
      "source": [],
      "metadata": {
        "id": "x-FGvSXF-wIe"
      },
      "execution_count": null,
      "outputs": []
    },
    {
      "cell_type": "markdown",
      "source": [
        "# 演習1の模範解答"
      ],
      "metadata": {
        "id": "4PyjMeEOtycm"
      }
    },
    {
      "cell_type": "code",
      "source": [
        "import pandas as pd\n",
        "import matplotlib.pyplot as plt\n",
        "\n",
        "website_visitors_april = pd.read_csv('/content/website_visitors_april.csv')\n",
        "\n",
        "result = website_visitors_april.head()\n",
        "\n",
        "print(result)\n",
        "\n",
        "plt.plot(website_visitors_april['day'], website_visitors_april['visitors'])\n",
        "\n",
        "plt.show()"
      ],
      "metadata": {
        "colab": {
          "base_uri": "https://localhost:8080/",
          "height": 537
        },
        "id": "RMEaTD4Atxuz",
        "outputId": "49a29e7a-315d-4fd8-fdda-ab17373a8921"
      },
      "execution_count": null,
      "outputs": [
        {
          "output_type": "stream",
          "name": "stdout",
          "text": [
            "   day  visitors\n",
            "0    1      1200\n",
            "1    2      1500\n",
            "2    3      1400\n",
            "3    4      1600\n",
            "4    5      1700\n"
          ]
        },
        {
          "output_type": "display_data",
          "data": {
            "text/plain": [
              "<Figure size 640x480 with 1 Axes>"
            ],
            "image/png": "[encoded data removed]"
          },
          "metadata": {}
        }
      ]
    },
    {
      "cell_type": "markdown",
      "source": [
        "# おまけ"
      ],
      "metadata": {
        "id": "bmpkLFiTUI5U"
      }
    },
    {
      "cell_type": "markdown",
      "source": [
        "**【グラフのタイトルと軸ラベル】**\n",
        "\n",
        "グラフのタイトルと軸ラベルの表示方法を学びましょう。\n",
        "軸ラベルとは、横軸と縦軸の内容をそれぞれ説明するテキストのことです。\n",
        "\n",
        "matplotlibではグラフにタイトルを設定できます。グラフのタイトルを設定するには、`matplotlib.pyplot`の`title`関数を使います。`title`関数の引数に、タイトルの値を指定します。\n",
        "\n",
        "グラフの横軸と縦軸には、それぞれ軸ラベルを設定できます。横軸のラベルを設定するには`xlabel`関数を、縦軸のラベルを設定するには`ylabel`関数を使います。それぞれの引数にラベル名の値を指定します。\n",
        "\n",
        "\n",
        "```python\n",
        "import pandas as pd\n",
        "import matplotlib.pyplot as plt\n",
        "\n",
        "sales = pd.read_csv('./sales.csv')\n",
        "\n",
        "plt.plot(sales['month'], sales['total_sales'])\n",
        "\n",
        "plt.title('monthly sales')\n",
        "plt.xlabel('month')\n",
        "plt.ylabel('sales')\n",
        "\n",
        "plt.show()\n",
        "```"
      ],
      "metadata": {
        "id": "s_N3DoU8T4gX"
      }
    },
    {
      "cell_type": "markdown",
      "source": [
        "**【複数のグラフを重ねて表示】**\n",
        "\n",
        "複数のグラフを比較するときは、同じエリアにグラフを重ねて描くことができます。\n",
        "\n",
        "折れ線グラフを重ねて描くには、`plot`関数を続けて書きます。例えば、`plot`関数を続けて3行書くことで、同じエリアに3つのグラフが表示されます。\n",
        "\n",
        "凡例を表示するには`legend`関数を使います。凡例のラベル名は`plot`関数の`label`引数を使って指定します。\n",
        "\n",
        "`label`引数は`label=\"値\"`と書きます。下の図では、`plot`関数の第3引数で凡例のラベル名を指定しています。\n",
        "\n",
        "<img src=\"https://drive.google.com/uc?id=14mgqsiL0zdWSiOj6CuWUu_nh3GOfUSAh\">"
      ],
      "metadata": {
        "id": "kfMl_cjpULWF"
      }
    },
    {
      "cell_type": "markdown",
      "source": [
        "# 演習問題2"
      ],
      "metadata": {
        "id": "gaKNQa0t_6qi"
      }
    },
    {
      "cell_type": "markdown",
      "source": [
        "\n",
        "\n",
        "1.   お渡ししている`sales_2022.csv` と`sales_2023.csv` という2つのCSVファイルをGoogle Colabにアップロードしてください。\n",
        "2.   `pandas` をインポートし、別名を `pd` としてください。\n",
        "3.   `matplotlib` をインポートし、別名を `plt` としてください。\n",
        "4.   `sales_2022.csv` というCSVファイルを `read_csv` 関数を使って変数 `sales_2022` に代入してください。\n",
        "5.   `sales_2023.csv` というCSVファイルを `read_csv` 関数を使って変数 `sales_2023` に代入してください。\n",
        "6.   横軸に変数 `sales_2022` の `month` カラムのデータ、縦軸に変数 `sales_2022` の `sales` カラムのデータを使って、折れ線グラフを表示してください。凡例のラベルは `2022` としてください。\n",
        "7.   横軸に変数 `sales_2023` の `month` カラムのデータ、縦軸に変数 `sales_2023` の `sales` カラムのデータを使って、折れ線グラフを表示してください。凡例のラベルは `2023` としてください。\n",
        "8.   グラフのタイトルを `Sales 2022-2023` としてください。\n",
        "9.   横軸のラベルを `month`、縦軸のラベルを `sales` にしてください。\n",
        "10.   ２つの折れ線グラフを凡例を表示してください。\n",
        "\n",
        "次のように表示されたら正解です！\n",
        "\n",
        "<img src=\"https://drive.google.com/uc?id=1YW68oyzDlSjZAlvzAZJ3MSsOF1Y5sNru\" width=\"400\">"
      ],
      "metadata": {
        "id": "ntoeE6BS0Ptw"
      }
    },
    {
      "cell_type": "code",
      "source": [],
      "metadata": {
        "id": "ji1VtGc70Pb8"
      },
      "execution_count": null,
      "outputs": []
    },
    {
      "cell_type": "markdown",
      "source": [
        "# 演習2の模範回答"
      ],
      "metadata": {
        "id": "3N-Xz_bdAWeN"
      }
    },
    {
      "cell_type": "code",
      "source": [
        "# ライブラリのインポート\n",
        "import pandas as pd\n",
        "import matplotlib.pyplot as plt\n",
        "\n",
        "# CSVファイルからデータを読み込み\n",
        "sales_2022 = pd.read_csv('/content/sales_2022.csv')\n",
        "sales_2023 = pd.read_csv('/content/sales_2023.csv')\n",
        "\n",
        "\n",
        "# 折れ線グラフ\n",
        "plt.plot(sales_2022['month'], sales_2022['sales'], label=\"2022\")\n",
        "plt.plot(sales_2023['month'], sales_2023['sales'], label=\"2023\")\n",
        "\n",
        "# タイトルと軸ラベルを設定\n",
        "plt.title('Sales 2022-2023')\n",
        "plt.xlabel('month')\n",
        "plt.ylabel('sales')\n",
        "\n",
        "# 凡例の表示\n",
        "plt.legend()\n",
        "\n",
        "# グラフを表示\n",
        "plt.show()"
      ],
      "metadata": {
        "id": "n0AF9gIgGpM1"
      },
      "execution_count": null,
      "outputs": []
    }
  ]
}